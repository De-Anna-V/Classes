{
  "nbformat": 4,
  "nbformat_minor": 0,
  "metadata": {
    "colab": {
      "provenance": []
    },
    "kernelspec": {
      "name": "python3",
      "display_name": "Python 3"
    },
    "language_info": {
      "name": "python"
    }
  },
  "cells": [
    {
      "cell_type": "code",
      "execution_count": null,
      "metadata": {
        "id": "JKZRSuI2476t"
      },
      "outputs": [],
      "source": [
        "class Student:\n",
        "    def __init__(self, name, surname, gender):\n",
        "        self.name = name\n",
        "        self.surname = surname\n",
        "        self.gender = gender\n",
        "        self.finished_courses = []\n",
        "        self.courses_in_progress = []\n",
        "        self.grades_for_hw = {}\n",
        "\n",
        "    def rate_lecturer(self, lecturer, course, grade):\n",
        "        if (isinstance(lecturer, Lecturer) and course in self.courses_in_progress\n",
        "            and course in lecturer.courses_attached and grade <= 10):\n",
        "            if course in lecturer.grades_for_lectures:\n",
        "                lecturer.grades_for_lectures[course] += [grade]\n",
        "            else:\n",
        "                lecturer.grades_for_lectures[course] = [grade]\n",
        "        else:\n",
        "            return 'Ошибка'\n",
        "\n",
        "    def show_mean_grade(self):\n",
        "        grades = []\n",
        "        for value in self.grades_for_hw.values():\n",
        "            grades.append(value)\n",
        "        try:\n",
        "            res = sum(sum(grades, []))/len(sum(grades, []))\n",
        "            return round(res, 2)\n",
        "        except:\n",
        "            return 0\n",
        "\n",
        "    def __lt__(self, other):\n",
        "        value_1 = self.show_mean_grade()\n",
        "        value_2 = other.show_mean_grade()\n",
        "        return value_1 < value_2\n",
        "\n",
        "    def __eq__(self, other):\n",
        "        value_1 = self.show_mean_grade()\n",
        "        value_2 = other.show_mean_grade()\n",
        "        return value_1 == value_2\n",
        "\n",
        "    def __str__(self):\n",
        "        return (f'Имя: {self.name}'\n",
        "                f'\\nФамилия: {self.surname}'\n",
        "                f'\\nСредняя оценка за домашние задания: {self.show_mean_grade()}'\n",
        "                f'\\nКурсы в процессе изучения: {\", \".join(self.courses_in_progress)}'\n",
        "                f'\\nЗавершенные курсы: {\", \".join(self.finished_courses)}')"
      ]
    },
    {
      "cell_type": "code",
      "source": [
        "class Mentor:\n",
        "    def __init__(self, name, surname):\n",
        "        self.name = name\n",
        "        self.surname = surname\n",
        "        self.courses_attached = []"
      ],
      "metadata": {
        "id": "mRlyAR_a56MA"
      },
      "execution_count": null,
      "outputs": []
    },
    {
      "cell_type": "code",
      "source": [
        "class Lecturer(Mentor):\n",
        "    def __init__(self, name, surname):\n",
        "        super().__init__(name, surname)\n",
        "        self.grades_for_lectures = {}\n",
        "\n",
        "    def show(self):\n",
        "        print(f'{self.name} {self.surname} закреплен за курсами {\" \".join(self.courses_attached)}.')\n",
        "\n",
        "    def show_grades(self):\n",
        "        print(f'{self.name} {self.surname} имеет оценки {self.grades_for_lectures}')\n",
        "\n",
        "    def show_mean_grade(self):\n",
        "        grades = []\n",
        "        for value in self.grades_for_lectures.values():\n",
        "            grades.append(value)\n",
        "        try:\n",
        "            res = sum(sum(grades, []))/len(sum(grades, []))\n",
        "            return round(res, 2)\n",
        "        except:\n",
        "            return 0\n",
        "\n",
        "    def __lt__(self, other):\n",
        "        value_1 = self.show_mean_grade()\n",
        "        value_2 = other.show_mean_grade()\n",
        "        return value_1 < value_2\n",
        "\n",
        "    def __eq__(self, other):\n",
        "        value_1 = self.show_mean_grade()\n",
        "        value_2 = other.show_mean_grade()\n",
        "        return value_1 == value_2\n",
        "\n",
        "    def __str__(self):\n",
        "        return (f'Имя: {self.name} \\nФамилия: {self.surname} \\nСредняя оценка за лекции: {self.show_mean_grade()}')"
      ],
      "metadata": {
        "id": "odOSUw9b51Ra"
      },
      "execution_count": null,
      "outputs": []
    },
    {
      "cell_type": "code",
      "source": [
        "class Reviewer(Mentor):\n",
        "    def rate_hw(self, student, course, grade):\n",
        "        if (isinstance(student, Student) and course in self.courses_attached\n",
        "            and course in student.courses_in_progress):\n",
        "            if course in student.grades_for_hw:\n",
        "                student.grades_for_hw[course] += [grade]\n",
        "            else:\n",
        "                student.grades_for_hw[course] = [grade]\n",
        "        else:\n",
        "            return 'Ошибка'\n",
        "\n",
        "    def __str__(self):\n",
        "        return (f'Имя: {self.name} \\nФамилия: {self.surname}' )"
      ],
      "metadata": {
        "id": "d2JFutY26tXD"
      },
      "execution_count": null,
      "outputs": []
    },
    {
      "cell_type": "markdown",
      "source": [
        "-"
      ],
      "metadata": {
        "id": "LKbSJO2PPrzv"
      }
    },
    {
      "cell_type": "markdown",
      "source": [
        "-"
      ],
      "metadata": {
        "id": "CcggNVFnPr2h"
      }
    },
    {
      "cell_type": "code",
      "source": [
        "kind_reviewer = Reviewer('Ирина', 'Александровна')\n",
        "kind_reviewer.courses_attached += ['Python']\n",
        "kind_reviewer.courses_attached += ['Java']"
      ],
      "metadata": {
        "id": "uR-8HLgMRUz8"
      },
      "execution_count": null,
      "outputs": []
    },
    {
      "cell_type": "code",
      "source": [
        "best_student = Student('Анна', 'Павлова', 'your_gender')\n",
        "best_student.courses_in_progress += ['Python']\n",
        "best_student.courses_in_progress += ['Git']"
      ],
      "metadata": {
        "id": "kPPlywK-Axv2"
      },
      "execution_count": null,
      "outputs": []
    },
    {
      "cell_type": "code",
      "source": [
        "best_student.courses_in_progress += ['HTML']\n",
        "best_student.courses_in_progress += ['Java']"
      ],
      "metadata": {
        "id": "ryP48G48N1Oj"
      },
      "execution_count": null,
      "outputs": []
    },
    {
      "cell_type": "code",
      "source": [
        "best_student.courses_in_progress"
      ],
      "metadata": {
        "colab": {
          "base_uri": "https://localhost:8080/"
        },
        "id": "Tk7H2d9xOVUR",
        "outputId": "f8d5e77f-e139-49eb-b1bb-a29dfbf1d352"
      },
      "execution_count": null,
      "outputs": [
        {
          "output_type": "execute_result",
          "data": {
            "text/plain": [
              "['Python', 'Git', 'HTML', 'Java']"
            ]
          },
          "metadata": {},
          "execution_count": 8
        }
      ]
    },
    {
      "cell_type": "code",
      "source": [
        "good_student = Student('Степан', 'Разин', 'your_gender')\n",
        "good_student.courses_in_progress += ['Python']\n",
        "good_student.courses_in_progress += ['Git']"
      ],
      "metadata": {
        "id": "3_ITDVBgGYBO"
      },
      "execution_count": null,
      "outputs": []
    },
    {
      "cell_type": "code",
      "source": [
        "other_student = Student('Галит', 'Мамедов', 'your_gender')\n",
        "other_student.courses_in_progress += ['Python']\n",
        "other_student.courses_in_progress += ['Git']"
      ],
      "metadata": {
        "id": "19vs7mGwI0kR"
      },
      "execution_count": null,
      "outputs": []
    },
    {
      "cell_type": "code",
      "source": [
        "kind_reviewer.rate_hw(best_student, 'Python', 10)\n",
        "kind_reviewer.rate_hw(best_student, 'Python', 8)\n",
        "kind_reviewer.rate_hw(best_student, 'Java', 8)"
      ],
      "metadata": {
        "id": "M3FGTzS8Rrci"
      },
      "execution_count": null,
      "outputs": []
    },
    {
      "cell_type": "code",
      "source": [
        "kind_reviewer.rate_hw(good_student, 'Python', 10)\n",
        "kind_reviewer.rate_hw(good_student, 'Python', 10)\n",
        "kind_reviewer.rate_hw(good_student, 'Java', 6)"
      ],
      "metadata": {
        "colab": {
          "base_uri": "https://localhost:8080/",
          "height": 36
        },
        "id": "hN-ywwVzHdk7",
        "outputId": "9b861555-fa94-48b3-ad79-1956923b6a66"
      },
      "execution_count": null,
      "outputs": [
        {
          "output_type": "execute_result",
          "data": {
            "text/plain": [
              "'Ошибка'"
            ],
            "application/vnd.google.colaboratory.intrinsic+json": {
              "type": "string"
            }
          },
          "metadata": {},
          "execution_count": 30
        }
      ]
    },
    {
      "cell_type": "code",
      "source": [
        "print(good_student.grades_for_hw)"
      ],
      "metadata": {
        "colab": {
          "base_uri": "https://localhost:8080/"
        },
        "id": "LeNJfIaLH2mS",
        "outputId": "84e04221-fa8e-4331-a917-a2a86a9c4541"
      },
      "execution_count": null,
      "outputs": [
        {
          "output_type": "stream",
          "name": "stdout",
          "text": [
            "{'Python': [10, 10], 'Git': [6]}\n"
          ]
        }
      ]
    },
    {
      "cell_type": "code",
      "source": [
        "other_student.show_mean_grade()"
      ],
      "metadata": {
        "colab": {
          "base_uri": "https://localhost:8080/"
        },
        "id": "8W4Q-8PoS8Ej",
        "outputId": "4c8a9732-9ec8-4502-ef3c-0ec63a88662f"
      },
      "execution_count": null,
      "outputs": [
        {
          "output_type": "execute_result",
          "data": {
            "text/plain": [
              "0"
            ]
          },
          "metadata": {},
          "execution_count": 14
        }
      ]
    },
    {
      "cell_type": "code",
      "source": [
        "best_student.show_mean_grade()"
      ],
      "metadata": {
        "colab": {
          "base_uri": "https://localhost:8080/"
        },
        "id": "4T-4x9HiG9qG",
        "outputId": "8e323dc4-d880-4cbf-dd8c-9adb9bf4bd91"
      },
      "execution_count": null,
      "outputs": [
        {
          "output_type": "execute_result",
          "data": {
            "text/plain": [
              "8.67"
            ]
          },
          "metadata": {},
          "execution_count": 63
        }
      ]
    },
    {
      "cell_type": "code",
      "source": [
        "print(good_student.grades_for_hw)"
      ],
      "metadata": {
        "colab": {
          "base_uri": "https://localhost:8080/"
        },
        "id": "-WAKgRSsU79-",
        "outputId": "59b47fec-b906-45c8-c247-e41cf7d321ab"
      },
      "execution_count": null,
      "outputs": [
        {
          "output_type": "stream",
          "name": "stdout",
          "text": [
            "{'Python': [10, 10], 'Git': [6]}\n"
          ]
        }
      ]
    },
    {
      "cell_type": "code",
      "source": [
        "good_student == best_student"
      ],
      "metadata": {
        "colab": {
          "base_uri": "https://localhost:8080/"
        },
        "id": "7u7pxfypGwdj",
        "outputId": "21ac9be1-2774-4189-fc85-1b0d8b608cdf"
      },
      "execution_count": null,
      "outputs": [
        {
          "output_type": "execute_result",
          "data": {
            "text/plain": [
              "True"
            ]
          },
          "metadata": {},
          "execution_count": 15
        }
      ]
    },
    {
      "cell_type": "code",
      "source": [
        "print(good_student)"
      ],
      "metadata": {
        "colab": {
          "base_uri": "https://localhost:8080/"
        },
        "id": "z5piD39YOhsb",
        "outputId": "ab4734b4-1162-4584-8c3e-ea4424f5617f"
      },
      "execution_count": null,
      "outputs": [
        {
          "output_type": "stream",
          "name": "stdout",
          "text": [
            "Имя: Степан\n",
            "Фамилия: Разин\n",
            "Средняя оценка за домашние задания: 8.67\n",
            "Курсы в процессе изучения: Python, Git\n",
            "Завершенные курсы: \n"
          ]
        }
      ]
    },
    {
      "cell_type": "code",
      "source": [
        "students = [best_student, good_student, other_student]\n",
        "\n",
        "def overall_mean_grade_for_hw(students, course):\n",
        "    overall_grade_for_course = []\n",
        "    students_list = []\n",
        "\n",
        "    for student in students:\n",
        "      if course in student.courses_in_progress:\n",
        "        students_list.append(student)\n",
        "        for key, value in student.grades_for_hw.items():\n",
        "          if key == course:\n",
        "            overall_grade_for_course.append(value)\n",
        "\n",
        "    try:\n",
        "      return round(sum(sum(overall_grade_for_course, []))/len(students_list), 2)\n",
        "\n",
        "    except:\n",
        "      return 'По данному курсу еще нет проверенных работ'"
      ],
      "metadata": {
        "id": "YfegzpkgQnxp"
      },
      "execution_count": null,
      "outputs": []
    },
    {
      "cell_type": "code",
      "source": [
        "overall_mean_grade_for_hw(students, 'o')"
      ],
      "metadata": {
        "colab": {
          "base_uri": "https://localhost:8080/",
          "height": 36
        },
        "id": "bserhbsgR0FJ",
        "outputId": "1da9632d-58eb-42b4-d031-e665daad1340"
      },
      "execution_count": null,
      "outputs": [
        {
          "output_type": "execute_result",
          "data": {
            "text/plain": [
              "'По данному курсу еще нет проверенных работ'"
            ],
            "application/vnd.google.colaboratory.intrinsic+json": {
              "type": "string"
            }
          },
          "metadata": {},
          "execution_count": 144
        }
      ]
    },
    {
      "cell_type": "markdown",
      "source": [
        "-"
      ],
      "metadata": {
        "id": "SxRutENoM_aI"
      }
    },
    {
      "cell_type": "code",
      "source": [
        "cool_lecturer = Lecturer('Иван', 'Петров')\n",
        "cool_lecturer.courses_attached += ['Python']\n",
        "cool_lecturer.courses_attached += ['Git']\n",
        "\n",
        "good_lecturer = Lecturer('Сергей', 'Анисимов')\n",
        "good_lecturer.courses_attached += ['HTML']\n",
        "good_lecturer.courses_attached += ['Java']"
      ],
      "metadata": {
        "id": "-c2ghPYY-h2S"
      },
      "execution_count": null,
      "outputs": []
    },
    {
      "cell_type": "code",
      "source": [
        "best_student.rate_lecturer(cool_lecturer, 'Git', 4)\n",
        "best_student.rate_lecturer(cool_lecturer, 'Python', 10)"
      ],
      "metadata": {
        "id": "hZ82UNn7BENe"
      },
      "execution_count": null,
      "outputs": []
    },
    {
      "cell_type": "code",
      "source": [
        "best_student.rate_lecturer(good_lecturer, 'HTML', 4)\n",
        "best_student.rate_lecturer(good_lecturer, 'Java', 10)"
      ],
      "metadata": {
        "id": "R2DXjJcnOF0R"
      },
      "execution_count": null,
      "outputs": []
    },
    {
      "cell_type": "code",
      "source": [
        "good_lecturer.courses_attached"
      ],
      "metadata": {
        "colab": {
          "base_uri": "https://localhost:8080/"
        },
        "id": "o9TCpflWObxp",
        "outputId": "1e335bfa-d334-4ad7-c570-3a9e59b5587a"
      },
      "execution_count": null,
      "outputs": [
        {
          "output_type": "execute_result",
          "data": {
            "text/plain": [
              "['HTML', 'Java']"
            ]
          },
          "metadata": {},
          "execution_count": 94
        }
      ]
    },
    {
      "cell_type": "code",
      "source": [
        "cool_lecturer.show_grades()"
      ],
      "metadata": {
        "colab": {
          "base_uri": "https://localhost:8080/"
        },
        "id": "3adjFJnuBqv5",
        "outputId": "1d44bb16-93ed-48c3-c5b8-cf5c765b779b"
      },
      "execution_count": null,
      "outputs": [
        {
          "output_type": "stream",
          "name": "stdout",
          "text": [
            "Иван Петров имеет оценки {'Git': [4], 'Python': [10]}\n"
          ]
        }
      ]
    },
    {
      "cell_type": "code",
      "source": [
        "good_lecturer.show_grades()"
      ],
      "metadata": {
        "colab": {
          "base_uri": "https://localhost:8080/"
        },
        "id": "jVi2fzkCOu4D",
        "outputId": "139c9357-22b8-403f-94dd-7026bb98248f"
      },
      "execution_count": null,
      "outputs": [
        {
          "output_type": "stream",
          "name": "stdout",
          "text": [
            "Сергей Анисимов имеет оценки {'HTML': [4], 'Java': [10]}\n"
          ]
        }
      ]
    },
    {
      "cell_type": "code",
      "source": [
        "cool_lecturer > good_lecturer"
      ],
      "metadata": {
        "colab": {
          "base_uri": "https://localhost:8080/"
        },
        "id": "L0CylwAU-wZA",
        "outputId": "60084bce-207b-4fdf-aed2-6f6b33b64e99"
      },
      "execution_count": null,
      "outputs": [
        {
          "output_type": "execute_result",
          "data": {
            "text/plain": [
              "False"
            ]
          },
          "metadata": {},
          "execution_count": 87
        }
      ]
    },
    {
      "cell_type": "code",
      "source": [
        "cool_lecturer.show_mean_grade()"
      ],
      "metadata": {
        "colab": {
          "base_uri": "https://localhost:8080/"
        },
        "id": "fFHQNfhKK2Mp",
        "outputId": "20b68823-3067-4578-aeea-df744b9c723a"
      },
      "execution_count": null,
      "outputs": [
        {
          "output_type": "execute_result",
          "data": {
            "text/plain": [
              "7.0"
            ]
          },
          "metadata": {},
          "execution_count": 88
        }
      ]
    },
    {
      "cell_type": "code",
      "source": [
        "print(cool_lecturer)"
      ],
      "metadata": {
        "colab": {
          "base_uri": "https://localhost:8080/"
        },
        "id": "OVOxQmdpEXch",
        "outputId": "615dc5d2-a215-46b2-d8a3-b38644433155"
      },
      "execution_count": null,
      "outputs": [
        {
          "output_type": "stream",
          "name": "stdout",
          "text": [
            "Имя: Иван \n",
            "Фамилия: Петров \n",
            "Средняя оценка за лекции: 7.0\n"
          ]
        }
      ]
    },
    {
      "cell_type": "code",
      "source": [
        "print(kind_reviewer)"
      ],
      "metadata": {
        "colab": {
          "base_uri": "https://localhost:8080/"
        },
        "id": "_bjujtgWZKwM",
        "outputId": "5890c0ed-8fd5-49c4-f1dd-189dff30cb3e"
      },
      "execution_count": null,
      "outputs": [
        {
          "output_type": "stream",
          "name": "stdout",
          "text": [
            "Имя: Ирина \n",
            "Фамилия: Александровна\n"
          ]
        }
      ]
    },
    {
      "cell_type": "code",
      "source": [
        "lecturers = [cool_lecturer, good_lecturer]\n",
        "\n",
        "def overall_mean_grade_for_lectures(lecturers, course):\n",
        "    overall_grade_for_lectures = []\n",
        "    lecturers_list = []\n",
        "\n",
        "    for lecturer in lecturers:\n",
        "      if course in lecturer.courses_attached:\n",
        "        lecturers_list.append(lecturer)\n",
        "        for key, value in lecturer.grades_for_lectures.items():\n",
        "          if key == course:\n",
        "            overall_grade_for_lectures.append(value)\n",
        "\n",
        "    try:\n",
        "      return sum(sum(overall_grade_for_lectures, []))/len(lecturers_list)\n",
        "\n",
        "    except:\n",
        "      return 'За лекции по данному курсу еще нет оценок'\n"
      ],
      "metadata": {
        "id": "8JzN4F5-YiNH"
      },
      "execution_count": null,
      "outputs": []
    },
    {
      "cell_type": "code",
      "source": [
        "overall_mean_grade_for_lectures(lecturers, 'O')"
      ],
      "metadata": {
        "colab": {
          "base_uri": "https://localhost:8080/",
          "height": 36
        },
        "id": "V1IrVV64Zx4O",
        "outputId": "57917d12-2c56-4397-a390-e1db88436cb3"
      },
      "execution_count": null,
      "outputs": [
        {
          "output_type": "execute_result",
          "data": {
            "text/plain": [
              "'За лекции по данному курсу еще нет оценок'"
            ],
            "application/vnd.google.colaboratory.intrinsic+json": {
              "type": "string"
            }
          },
          "metadata": {},
          "execution_count": 137
        }
      ]
    }
  ]
}